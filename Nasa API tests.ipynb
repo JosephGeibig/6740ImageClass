{
 "cells": [
  {
   "cell_type": "markdown",
   "id": "35c5f283",
   "metadata": {},
   "source": [
    "I signed up for an API key. Each one of us should probably use our own but this was the key that I was given\n",
    "\n",
    "H4NGmjHvt5deBwo02tdMde0lkCe7QSEzIyLyeGel\n",
    "\n",
    "I used this website to pull this together. For reference: https://medium.com/daily-python/consuming-nasa-api-using-python-part-1-daily-python-17-4ce104fa47ab\n",
    "\n",
    "Below are some installs which are necessary. Dont worry about running more than once"
   ]
  },
  {
   "cell_type": "code",
   "execution_count": 2,
   "id": "2580b216",
   "metadata": {},
   "outputs": [
    {
     "name": "stdout",
     "output_type": "stream",
     "text": [
      "Requirement already satisfied: requests in /Users/josephgeibig/opt/anaconda3/lib/python3.9/site-packages (2.27.1)\n",
      "Requirement already satisfied: idna<4,>=2.5 in /Users/josephgeibig/opt/anaconda3/lib/python3.9/site-packages (from requests) (3.3)\n",
      "Requirement already satisfied: charset-normalizer~=2.0.0 in /Users/josephgeibig/opt/anaconda3/lib/python3.9/site-packages (from requests) (2.0.4)\n",
      "Requirement already satisfied: urllib3<1.27,>=1.21.1 in /Users/josephgeibig/opt/anaconda3/lib/python3.9/site-packages (from requests) (1.26.9)\n",
      "Requirement already satisfied: certifi>=2017.4.17 in /Users/josephgeibig/opt/anaconda3/lib/python3.9/site-packages (from requests) (2021.10.8)\n",
      "\u001b[31mERROR: Could not find a version that satisfies the requirement pprint (from versions: none)\u001b[0m\n",
      "\u001b[31mERROR: No matching distribution found for pprint\u001b[0m\n",
      "Requirement already satisfied: urllib3 in /Users/josephgeibig/opt/anaconda3/lib/python3.9/site-packages (1.26.9)\n"
     ]
    }
   ],
   "source": [
    "!pip install requests \n",
    "!pip install urllib3"
   ]
  },
  {
   "cell_type": "markdown",
   "id": "808f0206",
   "metadata": {},
   "source": [
    "Below is the code to make a pull"
   ]
  },
  {
   "cell_type": "code",
   "execution_count": 6,
   "id": "80e10b93",
   "metadata": {},
   "outputs": [],
   "source": [
    "import requests\n",
    "import pprint as pp\n",
    "from urllib.request import urlretrieve\n",
    "apikey = 'H4NGmjHvt5deBwo02tdMde0lkCe7QSEzIyLyeGel'"
   ]
  },
  {
   "cell_type": "markdown",
   "id": "821322ca",
   "metadata": {},
   "source": [
    "### APOD example API pull "
   ]
  },
  {
   "cell_type": "code",
   "execution_count": 9,
   "id": "9c262d7a",
   "metadata": {},
   "outputs": [
    {
     "name": "stdout",
     "output_type": "stream",
     "text": [
      "{'copyright': 'Jose Mtanous',\n",
      " 'date': '2020-01-22',\n",
      " 'explanation': 'It is the closest cluster of stars to the Sun. The Hyades '\n",
      "                'open cluster is bright enough to have been remarked on even '\n",
      "                'thousands of years ago, yet is not as bright or compact as '\n",
      "                'the nearby Pleiades (M45) star cluster. Pictured here is a '\n",
      "                'particularly deep image of the Hyades which has brings out '\n",
      "                'vivid star colors and faint coincidental nebulas.  The '\n",
      "                'brightest star in the field is yellow Aldebaran, the eye of '\n",
      "                'the bull toward the constellation of Taurus. Aldebaran, at 65 '\n",
      "                'light-years away, is now known to be unrelated to the Hyades '\n",
      "                'cluster, which lies about 150 light-years away.  The central '\n",
      "                'Hyades stars are spread out over about 15 light-years. Formed '\n",
      "                'about 625 million years ago, the Hyades likely shares a '\n",
      "                'common origin with the Beehive cluster (M44), a naked-eye '\n",
      "                'open star cluster toward the constellation of Cancer, based '\n",
      "                \"on M44's motion through space and remarkably similar age.\",\n",
      " 'hdurl': 'https://apod.nasa.gov/apod/image/2001/Hyades_Mtanous_1998.jpg',\n",
      " 'media_type': 'image',\n",
      " 'service_version': 'v1',\n",
      " 'title': 'The Hyades Star Cluster',\n",
      " 'url': 'https://apod.nasa.gov/apod/image/2001/Hyades_Mtanous_1080.jpg'}\n"
     ]
    },
    {
     "data": {
      "text/plain": [
       "'https://apod.nasa.gov/apod/image/2001/Hyades_Mtanous_1080.jpg'"
      ]
     },
     "execution_count": 9,
     "metadata": {},
     "output_type": "execute_result"
    }
   ],
   "source": [
    "def fetchAPOD():\n",
    "    URL_APOD = \"https://api.nasa.gov/planetary/apod\"\n",
    "    date = '2020-01-22'\n",
    "    params = {\n",
    "      'api_key':apikey,\n",
    "      'date':date,\n",
    "      'hd':'True'\n",
    "    }\n",
    "    response = requests.get(URL_APOD,params=params).json()\n",
    "    pp.pprint(response)\n",
    "    return response\n",
    "res = fetchAPOD()\n",
    "res[\"url\"]"
   ]
  },
  {
   "cell_type": "markdown",
   "id": "f9c226cc",
   "metadata": {},
   "source": [
    "### EONet Example API Pull"
   ]
  },
  {
   "cell_type": "code",
   "execution_count": 13,
   "id": "5c717d12",
   "metadata": {},
   "outputs": [
    {
     "name": "stdout",
     "output_type": "stream",
     "text": [
      "{'description': 'Natural events from EONET.',\n",
      " 'events': [{'categories': [{'id': 'wildfires', 'title': 'Wildfires'}],\n",
      "             'closed': None,\n",
      "             'description': None,\n",
      "             'geometry': [{'coordinates': [-105.19282, 39.95983],\n",
      "                           'date': '2021-12-30T20:37:00Z',\n",
      "                           'magnitudeUnit': None,\n",
      "                           'magnitudeValue': None,\n",
      "                           'type': 'Point'}],\n",
      "             'id': 'EONET_5988',\n",
      "             'link': 'https://eonet.gsfc.nasa.gov/api/v3/events/EONET_5988',\n",
      "             'sources': [{'id': 'PDC',\n",
      "                          'url': 'http://emops.pdc.org/emops/?hazard_id=135349'}],\n",
      "             'title': 'Wildfire - SE of Boulder, Colorado - United States'},\n",
      "            {'categories': [{'id': 'wildfires', 'title': 'Wildfires'}],\n",
      "             'closed': None,\n",
      "             'description': None,\n",
      "             'geometry': [{'coordinates': [-117.729843629, 34.396954841],\n",
      "                           'date': '2021-12-12T20:37:00Z',\n",
      "                           'magnitudeUnit': None,\n",
      "                           'magnitudeValue': None,\n",
      "                           'type': 'Point'}],\n",
      "             'id': 'EONET_5983',\n",
      "             'link': 'https://eonet.gsfc.nasa.gov/api/v3/events/EONET_5983',\n",
      "             'sources': [{'id': 'PDC',\n",
      "                          'url': 'http://emops.pdc.org/emops/?hazard_id=134598'}],\n",
      "             'title': 'Wildfire - W of Victorville, California - United '\n",
      "                      'States'},\n",
      "            {'categories': [{'id': 'wildfires', 'title': 'Wildfires'}],\n",
      "             'closed': None,\n",
      "             'description': None,\n",
      "             'geometry': [{'coordinates': [-110.861196043, 33.417201559],\n",
      "                           'date': '2021-11-27T08:36:00Z',\n",
      "                           'magnitudeUnit': None,\n",
      "                           'magnitudeValue': None,\n",
      "                           'type': 'Point'}],\n",
      "             'id': 'EONET_5976',\n",
      "             'link': 'https://eonet.gsfc.nasa.gov/api/v3/events/EONET_5976',\n",
      "             'sources': [{'id': 'PDC',\n",
      "                          'url': 'http://emops.pdc.org/emops/?hazard_id=133800'}],\n",
      "             'title': 'Wildfire - E of Mesa, Arizona - United States'},\n",
      "            {'categories': [{'id': 'wildfires', 'title': 'Wildfires'}],\n",
      "             'closed': None,\n",
      "             'description': None,\n",
      "             'geometry': [{'coordinates': [-120.045451449, 35.36753333],\n",
      "                           'date': '2021-11-26T20:37:00Z',\n",
      "                           'magnitudeUnit': None,\n",
      "                           'magnitudeValue': None,\n",
      "                           'type': 'Point'}],\n",
      "             'id': 'EONET_5977',\n",
      "             'link': 'https://eonet.gsfc.nasa.gov/api/v3/events/EONET_5977',\n",
      "             'sources': [{'id': 'PDC',\n",
      "                          'url': 'http://emops.pdc.org/emops/?hazard_id=133794'}],\n",
      "             'title': 'Wildfire - E of San Luis Obispo, California - United '\n",
      "                      'States'},\n",
      "            {'categories': [{'id': 'wildfires', 'title': 'Wildfires'}],\n",
      "             'closed': None,\n",
      "             'description': None,\n",
      "             'geometry': [{'coordinates': [-111.590258883, 42.686767291],\n",
      "                           'date': '2021-11-22T20:37:00Z',\n",
      "                           'magnitudeUnit': None,\n",
      "                           'magnitudeValue': None,\n",
      "                           'type': 'Point'}],\n",
      "             'id': 'EONET_5975',\n",
      "             'link': 'https://eonet.gsfc.nasa.gov/api/v3/events/EONET_5975',\n",
      "             'sources': [{'id': 'PDC',\n",
      "                          'url': 'http://emops.pdc.org/emops/?hazard_id=133661'}],\n",
      "             'title': 'Wildfire - NW of Montpelier, Idaho - United States'}],\n",
      " 'link': 'https://eonet.gsfc.nasa.gov/api/v3/events',\n",
      " 'title': 'EONET Events'}\n"
     ]
    },
    {
     "data": {
      "text/plain": [
       "{'title': 'EONET Events',\n",
       " 'description': 'Natural events from EONET.',\n",
       " 'link': 'https://eonet.gsfc.nasa.gov/api/v3/events',\n",
       " 'events': [{'id': 'EONET_5988',\n",
       "   'title': 'Wildfire - SE of Boulder, Colorado - United States',\n",
       "   'description': None,\n",
       "   'link': 'https://eonet.gsfc.nasa.gov/api/v3/events/EONET_5988',\n",
       "   'closed': None,\n",
       "   'categories': [{'id': 'wildfires', 'title': 'Wildfires'}],\n",
       "   'sources': [{'id': 'PDC',\n",
       "     'url': 'http://emops.pdc.org/emops/?hazard_id=135349'}],\n",
       "   'geometry': [{'magnitudeValue': None,\n",
       "     'magnitudeUnit': None,\n",
       "     'date': '2021-12-30T20:37:00Z',\n",
       "     'type': 'Point',\n",
       "     'coordinates': [-105.19282, 39.95983]}]},\n",
       "  {'id': 'EONET_5983',\n",
       "   'title': 'Wildfire - W of Victorville, California - United States',\n",
       "   'description': None,\n",
       "   'link': 'https://eonet.gsfc.nasa.gov/api/v3/events/EONET_5983',\n",
       "   'closed': None,\n",
       "   'categories': [{'id': 'wildfires', 'title': 'Wildfires'}],\n",
       "   'sources': [{'id': 'PDC',\n",
       "     'url': 'http://emops.pdc.org/emops/?hazard_id=134598'}],\n",
       "   'geometry': [{'magnitudeValue': None,\n",
       "     'magnitudeUnit': None,\n",
       "     'date': '2021-12-12T20:37:00Z',\n",
       "     'type': 'Point',\n",
       "     'coordinates': [-117.729843629, 34.396954841]}]},\n",
       "  {'id': 'EONET_5976',\n",
       "   'title': 'Wildfire - E of Mesa, Arizona - United States',\n",
       "   'description': None,\n",
       "   'link': 'https://eonet.gsfc.nasa.gov/api/v3/events/EONET_5976',\n",
       "   'closed': None,\n",
       "   'categories': [{'id': 'wildfires', 'title': 'Wildfires'}],\n",
       "   'sources': [{'id': 'PDC',\n",
       "     'url': 'http://emops.pdc.org/emops/?hazard_id=133800'}],\n",
       "   'geometry': [{'magnitudeValue': None,\n",
       "     'magnitudeUnit': None,\n",
       "     'date': '2021-11-27T08:36:00Z',\n",
       "     'type': 'Point',\n",
       "     'coordinates': [-110.861196043, 33.417201559]}]},\n",
       "  {'id': 'EONET_5977',\n",
       "   'title': 'Wildfire - E of San Luis Obispo, California - United States',\n",
       "   'description': None,\n",
       "   'link': 'https://eonet.gsfc.nasa.gov/api/v3/events/EONET_5977',\n",
       "   'closed': None,\n",
       "   'categories': [{'id': 'wildfires', 'title': 'Wildfires'}],\n",
       "   'sources': [{'id': 'PDC',\n",
       "     'url': 'http://emops.pdc.org/emops/?hazard_id=133794'}],\n",
       "   'geometry': [{'magnitudeValue': None,\n",
       "     'magnitudeUnit': None,\n",
       "     'date': '2021-11-26T20:37:00Z',\n",
       "     'type': 'Point',\n",
       "     'coordinates': [-120.045451449, 35.36753333]}]},\n",
       "  {'id': 'EONET_5975',\n",
       "   'title': 'Wildfire - NW of Montpelier, Idaho - United States',\n",
       "   'description': None,\n",
       "   'link': 'https://eonet.gsfc.nasa.gov/api/v3/events/EONET_5975',\n",
       "   'closed': None,\n",
       "   'categories': [{'id': 'wildfires', 'title': 'Wildfires'}],\n",
       "   'sources': [{'id': 'PDC',\n",
       "     'url': 'http://emops.pdc.org/emops/?hazard_id=133661'}],\n",
       "   'geometry': [{'magnitudeValue': None,\n",
       "     'magnitudeUnit': None,\n",
       "     'date': '2021-11-22T20:37:00Z',\n",
       "     'type': 'Point',\n",
       "     'coordinates': [-111.590258883, 42.686767291]}]}]}"
      ]
     },
     "execution_count": 13,
     "metadata": {},
     "output_type": "execute_result"
    }
   ],
   "source": [
    "def fetcheonet():\n",
    "    URL_APOD = \"https://eonet.gsfc.nasa.gov/api/v3/events\"\n",
    "    start = \"2020-01-01\"\n",
    "    end = \"2021-12-31\"\n",
    "    params = {\n",
    "      'api_key':apikey,\n",
    "      'start':start ,\n",
    "      'end':end ,\n",
    "      'limit':5\n",
    "    }\n",
    "    response = requests.get(URL_APOD,params=params).json()\n",
    "    pp.pprint(response)\n",
    "    return response\n",
    "res = fetcheonet()\n",
    "res"
   ]
  },
  {
   "cell_type": "markdown",
   "id": "8c0a4505",
   "metadata": {},
   "source": [
    "The below function finds an image and saves it to the local directory based on the EPIC images nasa api."
   ]
  },
  {
   "cell_type": "code",
   "execution_count": 18,
   "id": "a3645e22",
   "metadata": {},
   "outputs": [
    {
     "name": "stdout",
     "output_type": "stream",
     "text": [
      "https://epic.gsfc.nasa.gov/archive/natural/2015/10/31/png/epic_1b_20151031074844.png\n"
     ]
    }
   ],
   "source": [
    "def fetchEPICImage():\n",
    "    YEAR = '2015'\n",
    "    MONTH = '10'\n",
    "    DAY = '31'\n",
    "    IMAGE_ID = 'epic_1b_20151031074844'\n",
    "    URL_EPIC = \"https://epic.gsfc.nasa.gov/archive/natural/\"\n",
    "    URL_EPIC = URL_EPIC + YEAR +'/' + MONTH + '/'+DAY\n",
    "    URL_EPIC = URL_EPIC + '/png'\n",
    "    URL_EPIC = URL_EPIC + '/' + IMAGE_ID + '.png' \n",
    "    print(URL_EPIC)\n",
    "    urlretrieve(URL_EPIC,IMAGE_ID+'.png')\n",
    "    \n",
    "fetchEPICImage()"
   ]
  }
 ],
 "metadata": {
  "kernelspec": {
   "display_name": "Python 3 (ipykernel)",
   "language": "python",
   "name": "python3"
  },
  "language_info": {
   "codemirror_mode": {
    "name": "ipython",
    "version": 3
   },
   "file_extension": ".py",
   "mimetype": "text/x-python",
   "name": "python",
   "nbconvert_exporter": "python",
   "pygments_lexer": "ipython3",
   "version": "3.9.12"
  }
 },
 "nbformat": 4,
 "nbformat_minor": 5
}
